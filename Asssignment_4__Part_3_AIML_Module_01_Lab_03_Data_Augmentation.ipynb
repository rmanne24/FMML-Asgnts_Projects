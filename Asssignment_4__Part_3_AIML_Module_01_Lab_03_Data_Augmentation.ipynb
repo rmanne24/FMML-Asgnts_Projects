{
  "cells": [
    {
      "cell_type": "markdown",
      "metadata": {
        "id": "view-in-github",
        "colab_type": "text"
      },
      "source": [
        "<a href=\"https://colab.research.google.com/github/rmanne24/FMML-Asgnts_Projects/blob/main/Asssignment_4__Part_3_AIML_Module_01_Lab_03_Data_Augmentation.ipynb\" target=\"_parent\"><img src=\"https://colab.research.google.com/assets/colab-badge.svg\" alt=\"Open In Colab\"/></a>"
      ]
    },
    {
      "cell_type": "markdown",
      "metadata": {
        "id": "w3yfry25JgZK"
      },
      "source": [
        "# Data Augmentation\n",
        "\n",
        "Module 1, Lab 3\n",
        "\n",
        "In this lab, we will see how augmentation of data samples help in improving the machine learning performance. Augmentation is the process of creating new data samples by making reasonable modifications to the original data samples. This is particularly useful when the size of the training data is small. We will use the MNISt dataset for this lab. We will also reuse functions from the previous labs."
      ]
    },
    {
      "cell_type": "code",
      "execution_count": 1,
      "metadata": {
        "id": "xZU8_elooqP0"
      },
      "outputs": [],
      "source": [
        "import numpy as np\n",
        "import matplotlib.pyplot as plt\n",
        "from keras.datasets import mnist\n",
        "from sklearn.utils.extmath import cartesian\n",
        "from skimage.transform import rotate, AffineTransform, warp\n",
        "\n",
        "rng = np.random.default_rng(seed=42)"
      ]
    },
    {
      "cell_type": "code",
      "execution_count": 2,
      "metadata": {
        "id": "gJvmWJ58ovx5",
        "colab": {
          "base_uri": "https://localhost:8080/"
        },
        "outputId": "a557c528-543b-476b-e26e-af657e4fd459"
      },
      "outputs": [
        {
          "output_type": "stream",
          "name": "stdout",
          "text": [
            "Downloading data from https://storage.googleapis.com/tensorflow/tf-keras-datasets/mnist.npz\n",
            "\u001b[1m11490434/11490434\u001b[0m \u001b[32m━━━━━━━━━━━━━━━━━━━━\u001b[0m\u001b[37m\u001b[0m \u001b[1m1s\u001b[0m 0us/step\n"
          ]
        }
      ],
      "source": [
        "# loading the dataset\n",
        "(train_X, train_y), (test_X, test_y) = mnist.load_data()\n",
        "\n",
        "# normalizing the data\n",
        "train_X = train_X / 255\n",
        "test_X = test_X / 255\n",
        "\n",
        "# subsample from images and labels. Otherwise it will take too long!\n",
        "train_X = train_X[::1200, :, :].copy()\n",
        "train_y = train_y[::1200].copy()"
      ]
    },
    {
      "cell_type": "markdown",
      "metadata": {
        "id": "8XamH6z1Rt7S"
      },
      "source": [
        "Let us borrow a few functions from the previous labs:"
      ]
    },
    {
      "cell_type": "code",
      "execution_count": 3,
      "metadata": {
        "id": "Zk2W5_3BRLMS"
      },
      "outputs": [],
      "source": [
        "def NN1(traindata, trainlabel, query):\n",
        "    \"\"\"\n",
        "    This function takes in the training data, training labels and a query point\n",
        "    and returns the predicted label for the query point using the nearest neighbour algorithm\n",
        "\n",
        "    traindata: numpy array of shape (n,d) where n is the number of samples and d is the number of features\n",
        "    trainlabel: numpy array of shape (n,) where n is the number of samples\n",
        "    query: numpy array of shape (d,) where d is the number of features\n",
        "\n",
        "    returns: the predicted label for the query point which is the label of the training data which is closest to the query point\n",
        "    \"\"\"\n",
        "    diff = (\n",
        "        traindata - query\n",
        "    )  # find the difference between features. Numpy automatically takes care of the size here\n",
        "    sq = diff * diff  # square the differences\n",
        "    dist = sq.sum(1)  # add up the squares\n",
        "    label = trainlabel[np.argmin(dist)]\n",
        "    return label\n",
        "\n",
        "\n",
        "def NN(traindata, trainlabel, testdata):\n",
        "    \"\"\"\n",
        "    This function takes in the training data, training labels and test data\n",
        "    and returns the predicted labels for the test data using the nearest neighbour algorithm\n",
        "\n",
        "    traindata: numpy array of shape (n,d) where n is the number of samples and d is the number of features\n",
        "    trainlabel: numpy array of shape (n,) where n is the number of samples\n",
        "    testdata: numpy array of shape (m,d) where m is the number of test samples and d is the number of features\n",
        "\n",
        "    returns: the predicted labels for the test data which is the label of the training data which is closest to each test point\n",
        "    \"\"\"\n",
        "    traindata = traindata.reshape(-1, 28*28)\n",
        "    testdata = testdata.reshape(-1, 28*28)\n",
        "    predlabel = np.array([NN1(traindata, trainlabel, i) for i in testdata])\n",
        "    return predlabel\n",
        "\n",
        "\n",
        "def Accuracy(gtlabel, predlabel):\n",
        "    \"\"\"\n",
        "    This function takes in the ground-truth labels and predicted labels\n",
        "    and returns the accuracy of the classifier\n",
        "\n",
        "    gtlabel: numpy array of shape (n,) where n is the number of samples\n",
        "    predlabel: numpy array of shape (n,) where n is the number of samples\n",
        "\n",
        "    returns: the accuracy of the classifier which is the number of correct predictions divided by the total number of predictions\n",
        "    \"\"\"\n",
        "    assert len(gtlabel) == len(\n",
        "        predlabel\n",
        "    ), \"Length of the ground-truth labels and predicted labels should be the same\"\n",
        "    correct = (\n",
        "        gtlabel == predlabel\n",
        "    ).sum()  # count the number of times the groundtruth label is equal to the predicted label.\n",
        "    return correct / len(gtlabel)"
      ]
    },
    {
      "cell_type": "markdown",
      "metadata": {
        "id": "eGiA3LmDSJZo"
      },
      "source": [
        "In this lab, we will use the image pixels themselves as features, instead of extracting features. Each image has 28*28 pixels, so we will flatten them to 784 pixels to use as features. Note that this is very compute intensive and will take a long time. Let us first check the baseline accuracy on the test set without any augmentations. We hope that adding augmentations will help us to get better results."
      ]
    },
    {
      "cell_type": "code",
      "execution_count": 4,
      "metadata": {
        "colab": {
          "base_uri": "https://localhost:8080/"
        },
        "id": "4tQvnoasRNEV",
        "outputId": "d4c61d5e-52cc-4f48-d026-c881a907aabf"
      },
      "outputs": [
        {
          "output_type": "stream",
          "name": "stdout",
          "text": [
            "Baseline accuracy without augmentation: 64.72 %\n"
          ]
        }
      ],
      "source": [
        "testpred = NN(train_X, train_y, test_X)\n",
        "print(\"Baseline accuracy without augmentation:\",\n",
        "      Accuracy(test_y, testpred)*100, \"%\")"
      ]
    },
    {
      "cell_type": "markdown",
      "metadata": {
        "id": "ZfkcMfhIZQ7U"
      },
      "source": [
        "Let us try to improve this accuracy using augmentations. When we create augmentations, we have to make sure that the changes reflect what will naturally occur in the dataset. For example, we should not add colour to our samples as an augmentation because they do not naturally occur. We should not also flip the images in MNIST, because flipped images have different meanings for digits. So, we will use the following augmentations:\n",
        "\n",
        "### Augmentation 1: Rotation\n",
        "\n",
        "Let us try rotating the image a little. We will use the `rotate` function from the `skimage` module. We will rotate the image by 10 degrees and -10 degrees. Rotation is a reasonable augmentation because the digit will still be recognizable even after rotation and is representative of the dataset."
      ]
    },
    {
      "cell_type": "code",
      "execution_count": 5,
      "metadata": {
        "colab": {
          "base_uri": "https://localhost:8080/",
          "height": 424
        },
        "id": "z5WolJ9fZE7L",
        "outputId": "465d1375-d10f-4172-ff73-5bda9fa15cf9"
      },
      "outputs": [
        {
          "output_type": "display_data",
          "data": {
            "text/plain": [
              "<Figure size 1500x500 with 3 Axes>"
            ],
            "image/png": "[encoded data removed]"
          },
          "metadata": {}
        }
      ],
      "source": [
        "fig, axs = plt.subplots(1, 3, figsize=(15, 5))\n",
        "\n",
        "axs[0].imshow(train_X[2], cmap=\"gray\")\n",
        "axs[0].set_title(\"Original Image\")\n",
        "\n",
        "axs[1].imshow(rotate(train_X[2], 10), cmap=\"gray\")\n",
        "axs[1].set_title(\"Rotate +10 degrees\")\n",
        "\n",
        "axs[2].imshow(rotate(train_X[2], -10), cmap=\"gray\")\n",
        "axs[2].set_title(\"Rotate -10 degrees\")\n",
        "\n",
        "plt.show()"
      ]
    },
    {
      "cell_type": "markdown",
      "metadata": {
        "id": "KE33Yxgggu0c"
      },
      "source": [
        "After rotating, the the class of the image is still the same. Let us make a function to rotate multiple images by random angles. We want a slightly different image every time we run this function. So, we generate a random number between 0 and 1 and change it so that it lies between -constraint/2 and +constraint/2"
      ]
    },
    {
      "cell_type": "code",
      "execution_count": 6,
      "metadata": {
        "id": "vyM7pUV7Reze"
      },
      "outputs": [],
      "source": [
        "def augRotate(sample, angleconstraint):\n",
        "    \"\"\"\n",
        "    This function takes in a sample and an angle constraint and returns the augmented sample\n",
        "    by rotating the sample by a random angle within the angle constraint\n",
        "\n",
        "    sample: numpy array of shape (n,d) where n is the number of samples and d is the number of features\n",
        "    angleconstraint: the maximum angle by which the sample can be rotated\n",
        "\n",
        "    returns: the augmented sample which is the input sample rotated by a random angle within the angle constraint\n",
        "    \"\"\"\n",
        "    if angleconstraint == 0:\n",
        "        return sample\n",
        "    if len(sample.shape) == 2:\n",
        "        # make sure the sample is 3 dimensional\n",
        "        sample = np.expand_dims(sample, 0)\n",
        "    angle = rng.random(len(sample))  # generate random numbers for angles\n",
        "    # make the random angle constrained\n",
        "    angle = (angle - 0.5) * angleconstraint\n",
        "    nsample = sample.copy()  # preallocate the augmented array to make it faster\n",
        "    for ii in range(len(sample)):\n",
        "        nsample[ii] = rotate(sample[ii], angle[ii])\n",
        "    return np.squeeze(nsample)  # take care if the input had only one sample."
      ]
    },
    {
      "cell_type": "markdown",
      "metadata": {
        "id": "kDk-N5VNjar9"
      },
      "source": [
        "This function returns a slightly different image each time we call it. So we can increase the number of images in the sample by any multiple."
      ]
    },
    {
      "cell_type": "code",
      "execution_count": 7,
      "metadata": {
        "colab": {
          "base_uri": "https://localhost:8080/",
          "height": 283
        },
        "id": "Vw3O9zGFgI8K",
        "outputId": "58387d8c-7c46-4bad-906e-537b9f2e151f"
      },
      "outputs": [
        {
          "output_type": "display_data",
          "data": {
            "text/plain": [
              "<Figure size 1500x500 with 5 Axes>"
            ],
            "image/png": "[encoded data removed]"
          },
          "metadata": {}
        }
      ],
      "source": [
        "sample = train_X[20]\n",
        "angleconstraint = 70\n",
        "\n",
        "fig, axs = plt.subplots(1, 5, figsize=(15, 5))\n",
        "\n",
        "axs[0].imshow(sample, cmap=\"gray\")\n",
        "axs[0].set_title(\"Original Image\")\n",
        "\n",
        "axs[1].imshow(augRotate(sample, angleconstraint), cmap=\"gray\")\n",
        "axs[1].set_title(\"Aug. Sample 1\")\n",
        "\n",
        "axs[2].imshow(augRotate(sample, angleconstraint), cmap=\"gray\")\n",
        "axs[2].set_title(\"Aug. Sample 2\")\n",
        "\n",
        "axs[3].imshow(augRotate(sample, angleconstraint), cmap=\"gray\")\n",
        "axs[3].set_title(\"Aug. Sample 3\")\n",
        "\n",
        "axs[4].imshow(augRotate(sample, angleconstraint), cmap=\"gray\")\n",
        "axs[4].set_title(\"Aug. Sample 4\")\n",
        "\n",
        "plt.show()"
      ]
    },
    {
      "cell_type": "markdown",
      "metadata": {
        "id": "ytv3NxF-kgxN"
      },
      "source": [
        "Let us augment the whole dataset and see if this improves the test accuracy"
      ]
    },
    {
      "cell_type": "code",
      "execution_count": 8,
      "metadata": {
        "colab": {
          "base_uri": "https://localhost:8080/"
        },
        "id": "iNzNAoDBkRzj",
        "outputId": "9bc16314-5880-4006-bc50-c8f7ba68183e"
      },
      "outputs": [
        {
          "output_type": "stream",
          "name": "stdout",
          "text": [
            "Accuracy after rotation augmentation: 67.66 %\n"
          ]
        }
      ],
      "source": [
        "# hyperparameters\n",
        "angleconstraint = 60\n",
        "naugmentations = 5\n",
        "\n",
        "# augment\n",
        "augdata = train_X  # we include the original images also in the augmented dataset\n",
        "auglabel = train_y\n",
        "for ii in range(naugmentations):\n",
        "    augdata = np.concatenate(\n",
        "        (augdata, augRotate(train_X, angleconstraint))\n",
        "    )  # concatenate the augmented data to the set\n",
        "    auglabel = np.concatenate(\n",
        "        (auglabel, train_y)\n",
        "    )  # the labels don't change when we augment\n",
        "\n",
        "# check the test accuracy\n",
        "testpred = NN(augdata, auglabel, test_X)\n",
        "print(\"Accuracy after rotation augmentation:\", Accuracy(test_y, testpred)*100, \"%\")"
      ]
    },
    {
      "cell_type": "markdown",
      "metadata": {
        "id": "E88Nt9s1p5R6"
      },
      "source": [
        "We can notice a 3-4% improvement compared to non-augmented version of the dataset!\n",
        "\n",
        "The angle constraint is a hyperparameter which we have to tune using a validation set. (Here we are not doing that for time constraints). Let us try a grid search to find the best angle constraint. We will try angles between 0 and 90 degrees. We can also try different multiples of the original dataset. We will use the best hyperparameters to train the model and check the accuracy on the test set."
      ]
    },
    {
      "cell_type": "code",
      "execution_count": 9,
      "metadata": {
        "colab": {
          "base_uri": "https://localhost:8080/"
        },
        "id": "aiaFRLREmGp6",
        "outputId": "6504a3de-d9e9-498a-fff1-0a050565a30d"
      },
      "outputs": [
        {
          "output_type": "stream",
          "name": "stdout",
          "text": [
            "Accuracy after rotation augmentation constrained by 0 degrees is 64.72 %\n",
            "Accuracy after rotation augmentation constrained by 10 degrees is 66.79 %\n",
            "Accuracy after rotation augmentation constrained by 20 degrees is 67.84 %\n",
            "Accuracy after rotation augmentation constrained by 30 degrees is 68.47 %\n",
            "Accuracy after rotation augmentation constrained by 40 degrees is 67.63 %\n",
            "Accuracy after rotation augmentation constrained by 50 degrees is 67.65 %\n",
            "Accuracy after rotation augmentation constrained by 60 degrees is 65.3 %\n",
            "Accuracy after rotation augmentation constrained by 70 degrees is 66.06 %\n",
            "Accuracy after rotation augmentation constrained by 80 degrees is 64.61 %\n",
            "Accuracy after rotation augmentation constrained by 90 degrees is 64.31 %\n"
          ]
        }
      ],
      "source": [
        "angleconstraints = [0, 10, 20, 30, 40, 50, 60, 70, 80, 90]  # the values we want to test\n",
        "accuracies = np.zeros(\n",
        "    len(angleconstraints), dtype=float\n",
        ")  # we will save the values here\n",
        "\n",
        "for ii in range(len(angleconstraints)):\n",
        "    # create the augmented dataset\n",
        "    augdata = train_X  # we include the original images also in the augmented dataset\n",
        "    auglabel = train_y\n",
        "    for jj in range(naugmentations):\n",
        "        augdata = np.concatenate(\n",
        "            (augdata, augRotate(train_X, angleconstraints[ii]))\n",
        "        )  # concatenate the augmented data to the set\n",
        "        auglabel = np.concatenate(\n",
        "            (auglabel, train_y)\n",
        "        )  # the labels don't change when we augment\n",
        "\n",
        "    # check the test accuracy\n",
        "    testpred = NN(augdata, auglabel, test_X)\n",
        "    accuracies[ii] = Accuracy(test_y, testpred)\n",
        "    print(\n",
        "        \"Accuracy after rotation augmentation constrained by\",\n",
        "        angleconstraints[ii],\n",
        "        \"degrees is\",\n",
        "        accuracies[ii]*100,\n",
        "        \"%\",\n",
        "        flush=True,\n",
        "    )"
      ]
    },
    {
      "cell_type": "markdown",
      "metadata": {
        "id": "2oVDRYP2rxob"
      },
      "source": [
        "Let us see the best value for angle constraint: (Ideally this should be done on validation set, not test set)"
      ]
    },
    {
      "cell_type": "code",
      "execution_count": 10,
      "metadata": {
        "colab": {
          "base_uri": "https://localhost:8080/",
          "height": 481
        },
        "id": "LqthJa_pmMHz",
        "outputId": "b8285b62-fea3-4011-a2f5-0a5c987ce67d"
      },
      "outputs": [
        {
          "output_type": "execute_result",
          "data": {
            "text/plain": [
              "<matplotlib.collections.PathCollection at 0x7e038b62bec0>"
            ]
          },
          "metadata": {},
          "execution_count": 10
        },
        {
          "output_type": "display_data",
          "data": {
            "text/plain": [
              "<Figure size 640x480 with 1 Axes>"
            ],
            "image/png": "[encoded data removed]"
          },
          "metadata": {}
        }
      ],
      "source": [
        "fig = plt.figure()\n",
        "ax = fig.add_axes([0.1, 0.1, 0.8, 0.8])\n",
        "# plot the variation of accuracy\n",
        "ax.plot(angleconstraints, accuracies)\n",
        "ax.set_xlabel(\"angle\")\n",
        "ax.set_ylabel(\"accuracy\")\n",
        "\n",
        "# plot the maximum accuracy\n",
        "maxind = np.argmax(accuracies)\n",
        "plt.scatter(angleconstraints[maxind], accuracies[maxind], c=\"red\")"
      ]
    },
    {
      "cell_type": "markdown",
      "metadata": {
        "id": "eJ8YuVfCuGTj"
      },
      "source": [
        "### Augmentation 2: Shear\n",
        "\n",
        "\n",
        "Let us try one more augmentation: shear. Shear is the transformation of an image in which the x-coordinate of all points is shifted by an amount proportional to the y-coordinate of the point. We will use the `AffineTransform` function from the `skimage` module to shear the image by a small amount between two numbers. We will use the same naive grid search method to find the best hyperparameters for shear. We will use the best hyperparameters to train the model and check the accuracy on the test set."
      ]
    },
    {
      "cell_type": "code",
      "execution_count": 11,
      "metadata": {
        "id": "pMiw46NLwssK"
      },
      "outputs": [],
      "source": [
        "def shear(sample, amount):\n",
        "    \"\"\"\n",
        "    This function takes in a sample and an amount and returns the augmented sample\n",
        "    by shearing the sample by the given amount\n",
        "\n",
        "    sample: numpy array of shape (n,d) where n is the number of samples and d is the number of features\n",
        "    amount: the amount by which the sample should be sheared\n",
        "\n",
        "    returns: the augmented sample which is the input sample sheared by the given amount\n",
        "    \"\"\"\n",
        "    tform = AffineTransform(shear=amount)\n",
        "    img = warp(sample, tform)\n",
        "\n",
        "    # Applying shear makes the digit off-center\n",
        "    # Since all images are centralized, we will do the same here\n",
        "    col = img.sum(0).nonzero()[0]\n",
        "    row = img.sum(1).nonzero()[0]\n",
        "    if len(col) > 0 and len(row) > 0:\n",
        "        xshift = int(sample.shape[0] / 2 - (row[0] + row[-1]) / 2)\n",
        "        yshift = int(sample.shape[1] / 2 - (col[0] + col[-1]) / 2)\n",
        "        img = np.roll(img, (xshift, yshift), (0, 1))\n",
        "    return img"
      ]
    },
    {
      "cell_type": "code",
      "execution_count": 12,
      "metadata": {
        "colab": {
          "base_uri": "https://localhost:8080/",
          "height": 335
        },
        "id": "4_u_EYpmnABK",
        "outputId": "de97ec51-988a-4003-976a-efe3edd275d1"
      },
      "outputs": [
        {
          "output_type": "display_data",
          "data": {
            "text/plain": [
              "<Figure size 1500x500 with 4 Axes>"
            ],
            "image/png": "[encoded data removed]"
          },
          "metadata": {}
        }
      ],
      "source": [
        "sample = train_X[2]\n",
        "fig, axs = plt.subplots(1, 4, figsize=(15, 5))\n",
        "\n",
        "axs[0].imshow(sample, cmap=\"gray\")\n",
        "axs[0].set_title(\"Original Image\")\n",
        "\n",
        "axs[1].imshow(shear(sample, 0.2), cmap=\"gray\")\n",
        "axs[1].set_title(\"Amount = 0.2\")\n",
        "\n",
        "axs[2].imshow(shear(sample, 0.4), cmap=\"gray\")\n",
        "axs[2].set_title(\"Amount = 0.4\")\n",
        "\n",
        "axs[3].imshow(shear(sample, 0.6), cmap=\"gray\")\n",
        "axs[3].set_title(\"Amount = 0.6\")\n",
        "\n",
        "plt.show()"
      ]
    },
    {
      "cell_type": "markdown",
      "metadata": {
        "id": "lGnWMoyM2pK4"
      },
      "source": [
        "Create an augmentation function which applies a random shear according to the constraint we provide:"
      ]
    },
    {
      "cell_type": "code",
      "execution_count": 13,
      "metadata": {
        "id": "-qLDJyGytwP5"
      },
      "outputs": [],
      "source": [
        "def augShear(sample, shearconstraint):\n",
        "    \"\"\"\n",
        "    This function takes in a sample and a shear constraint and returns the augmented sample\n",
        "    by shearing the sample by a random amount within the shear constraint\n",
        "\n",
        "    sample: numpy array of shape (n,d) where n is the number of samples and d is the number of features\n",
        "    shearconstraint: the maximum shear by which the sample can be sheared\n",
        "\n",
        "    returns: the augmented sample which is the input sample sheared by a random amount within the shear constraint\n",
        "    \"\"\"\n",
        "    if shearconstraint == 0:\n",
        "        return sample\n",
        "    if len(sample.shape) == 2:\n",
        "        # make sure the sample is 3 dimensional\n",
        "        sample = np.expand_dims(sample, 0)\n",
        "    amt = rng.random(len(sample))  # generate random numbers for shear\n",
        "    amt = (amt - 0.5) * shearconstraint  # make the random shear constrained\n",
        "    nsample = sample.copy()  # preallocate the augmented array to make it faster\n",
        "    for ii in range(len(sample)):\n",
        "        nsample[ii] = shear(sample[ii], amt[ii])\n",
        "    return np.squeeze(nsample)  # take care if the input had only one sample."
      ]
    },
    {
      "cell_type": "markdown",
      "metadata": {
        "id": "s6lQcWW93suJ"
      },
      "source": [
        "Let us do a grid search to find the best shear constraint."
      ]
    },
    {
      "cell_type": "code",
      "execution_count": 14,
      "metadata": {
        "colab": {
          "base_uri": "https://localhost:8080/"
        },
        "id": "l_wrqPkrzBb_",
        "outputId": "002eb96d-a98f-4be4-d96c-09b540b54125"
      },
      "outputs": [
        {
          "output_type": "stream",
          "name": "stdout",
          "text": [
            "Accuracy after shear augmentation constrained by 0 is 64.72 %\n",
            "Accuracy after shear augmentation constrained by 0.2 is 62.79 %\n",
            "Accuracy after shear augmentation constrained by 0.4 is 64.41 %\n",
            "Accuracy after shear augmentation constrained by 0.6 is 65.71000000000001 %\n",
            "Accuracy after shear augmentation constrained by 0.8 is 65.78 %\n",
            "Accuracy after shear augmentation constrained by 1.0 is 65.42999999999999 %\n",
            "Accuracy after shear augmentation constrained by 1.2 is 63.6 %\n",
            "Accuracy after shear augmentation constrained by 1.4 is 63.65 %\n",
            "Accuracy after shear augmentation constrained by 1.6 is 61.809999999999995 %\n",
            "Accuracy after shear augmentation constrained by 1.8 is 63.029999999999994 %\n",
            "Accuracy after shear augmentation constrained by 2.0 is 64.14 %\n"
          ]
        }
      ],
      "source": [
        "shearconstraints = [\n",
        "    0,\n",
        "    0.2,\n",
        "    0.4,\n",
        "    0.6,\n",
        "    0.8,\n",
        "    1.0,\n",
        "    1.2,\n",
        "    1.4,\n",
        "    1.6,\n",
        "    1.8,\n",
        "    2.0,\n",
        "]  # the values we want to test\n",
        "accuracies = np.zeros(\n",
        "    len(shearconstraints), dtype=float\n",
        ")  # we will save the values here\n",
        "\n",
        "for ii in range(len(shearconstraints)):\n",
        "    # create the augmented dataset\n",
        "    augdata = train_X  # we include the original images also in the augmented dataset\n",
        "    auglabel = train_y\n",
        "    for jj in range(naugmentations):\n",
        "        augdata = np.concatenate(\n",
        "            (augdata, augShear(train_X, shearconstraints[ii]))\n",
        "        )  # concatenate the augmented data to the set\n",
        "        auglabel = np.concatenate(\n",
        "            (auglabel, train_y)\n",
        "        )  # the labels don't change when we augment\n",
        "\n",
        "    # check the test accuracy\n",
        "    testpred = NN(augdata, auglabel, test_X)\n",
        "    accuracies[ii] = Accuracy(test_y, testpred)\n",
        "    print(\n",
        "        \"Accuracy after shear augmentation constrained by\",\n",
        "        shearconstraints[ii],\n",
        "        \"is\",\n",
        "        accuracies[ii]*100,\n",
        "        \"%\",\n",
        "        flush=True,\n",
        "    )"
      ]
    },
    {
      "cell_type": "code",
      "execution_count": 15,
      "metadata": {
        "colab": {
          "base_uri": "https://localhost:8080/",
          "height": 481
        },
        "id": "EKaH-YR-zVnA",
        "outputId": "4b09bf52-bc41-4948-82be-c7dddaa681cb"
      },
      "outputs": [
        {
          "output_type": "execute_result",
          "data": {
            "text/plain": [
              "<matplotlib.collections.PathCollection at 0x7e038c9e7aa0>"
            ]
          },
          "metadata": {},
          "execution_count": 15
        },
        {
          "output_type": "display_data",
          "data": {
            "text/plain": [
              "<Figure size 640x480 with 1 Axes>"
            ],
            "image/png": "[encoded data removed]"
          },
          "metadata": {}
        }
      ],
      "source": [
        "fig = plt.figure()\n",
        "ax = fig.add_axes([0.1, 0.1, 0.8, 0.8])\n",
        "# plot the variation of accuracy\n",
        "ax.plot(shearconstraints, accuracies)\n",
        "ax.set_xlabel(\"angle\")\n",
        "ax.set_ylabel(\"accuracy\")\n",
        "\n",
        "# plot the maximum accuracy\n",
        "maxind = np.argmax(accuracies)\n",
        "plt.scatter(shearconstraints[maxind], accuracies[maxind], c=\"red\")"
      ]
    },
    {
      "cell_type": "markdown",
      "metadata": {
        "id": "ccfdbRcQ7Zgg"
      },
      "source": [
        "### Augmentation 3: Rotation + Shear\n",
        "\n",
        "\n",
        "\n",
        "We can do multiple augmentations at the same time. Here is a function to do both shear and rotation to the sample. In this case, we will have two hyperparameters."
      ]
    },
    {
      "cell_type": "code",
      "execution_count": 16,
      "metadata": {
        "id": "sh8S_Pxa0XCv"
      },
      "outputs": [],
      "source": [
        "def augRotateShear(sample, angleconstraint, shearconstraint):\n",
        "    \"\"\"\n",
        "    This function takes in a sample, an angle constraint and a shear constraint and returns the augmented sample\n",
        "    by rotating the sample by a random angle within the angle constraint and shearing the sample by a random amount within the shear constraint\n",
        "\n",
        "    sample: numpy array of shape (n,d) where n is the number of samples and d is the number of features\n",
        "    angleconstraint: the maximum angle by which the sample can be rotated\n",
        "    shearconstraint: the maximum shear by which the sample can be sheared\n",
        "\n",
        "    returns: the augmented sample which is the input sample rotated by a random angle within the angle constraint and sheared by a random amount within the shear constraint\n",
        "    \"\"\"\n",
        "    if len(sample.shape) == 2:\n",
        "        # make sure the sample is 3 dimensional\n",
        "        sample = np.expand_dims(sample, 0)\n",
        "    amt = rng.random(len(sample))  # generate random numbers for shear\n",
        "    amt = (amt - 0.5) * shearconstraint  # make the random shear constrained\n",
        "    angle = rng.random(len(sample))  # generate random numbers for angles\n",
        "    # make the random angle constrained\n",
        "    angle = (angle - 0.5) * angleconstraint\n",
        "    nsample = sample.copy()  # preallocate the augmented array to make it faster\n",
        "    for ii in range(len(sample)):\n",
        "        nsample[ii] = rotate(\n",
        "            shear(sample[ii], amt[ii]), angle[ii]\n",
        "        )  # first apply shear, then rotate\n",
        "    return np.squeeze(nsample)  # take care if the input had only one sample."
      ]
    },
    {
      "cell_type": "markdown",
      "metadata": {
        "id": "OGKyjjNx-NQ4"
      },
      "source": [
        "Since we have two hyperparameters, we have to do the grid search on a 2 dimensional matrix. We can use our previous experience to inform where to search for the best hyperparameters."
      ]
    },
    {
      "cell_type": "code",
      "execution_count": 17,
      "metadata": {
        "colab": {
          "base_uri": "https://localhost:8080/"
        },
        "id": "TJC45WRg0pOP",
        "outputId": "2894dd1d-0b82-441c-ee14-7b5dc3bd07eb"
      },
      "outputs": [
        {
          "output_type": "stream",
          "name": "stdout",
          "text": [
            "Accuracy after augmentation shear: 0.0 angle: 0.0 is 63.32 %\n",
            "Accuracy after augmentation shear: 0.0 angle: 10.0 is 63.959999999999994 %\n",
            "Accuracy after augmentation shear: 0.0 angle: 20.0 is 60.64000000000001 %\n",
            "Accuracy after augmentation shear: 0.0 angle: 30.0 is 63.019999999999996 %\n",
            "Accuracy after augmentation shear: 0.0 angle: 40.0 is 64.14999999999999 %\n",
            "Accuracy after augmentation shear: 0.0 angle: 50.0 is 61.72 %\n",
            "Accuracy after augmentation shear: 0.0 angle: 60.0 is 63.7 %\n",
            "Accuracy after augmentation shear: 0.2 angle: 0.0 is 63.41 %\n",
            "Accuracy after augmentation shear: 0.2 angle: 10.0 is 61.25000000000001 %\n",
            "Accuracy after augmentation shear: 0.2 angle: 20.0 is 60.6 %\n",
            "Accuracy after augmentation shear: 0.2 angle: 30.0 is 60.07 %\n",
            "Accuracy after augmentation shear: 0.2 angle: 40.0 is 63.690000000000005 %\n",
            "Accuracy after augmentation shear: 0.2 angle: 50.0 is 60.12 %\n",
            "Accuracy after augmentation shear: 0.2 angle: 60.0 is 63.72 %\n",
            "Accuracy after augmentation shear: 0.4 angle: 0.0 is 63.370000000000005 %\n",
            "Accuracy after augmentation shear: 0.4 angle: 10.0 is 63.480000000000004 %\n",
            "Accuracy after augmentation shear: 0.4 angle: 20.0 is 62.6 %\n",
            "Accuracy after augmentation shear: 0.4 angle: 30.0 is 59.099999999999994 %\n",
            "Accuracy after augmentation shear: 0.4 angle: 40.0 is 62.81 %\n",
            "Accuracy after augmentation shear: 0.4 angle: 50.0 is 60.49 %\n",
            "Accuracy after augmentation shear: 0.4 angle: 60.0 is 62.57 %\n",
            "Accuracy after augmentation shear: 0.6 angle: 0.0 is 63.3 %\n",
            "Accuracy after augmentation shear: 0.6 angle: 10.0 is 60.440000000000005 %\n",
            "Accuracy after augmentation shear: 0.6 angle: 20.0 is 63.349999999999994 %\n",
            "Accuracy after augmentation shear: 0.6 angle: 30.0 is 60.9 %\n",
            "Accuracy after augmentation shear: 0.6 angle: 40.0 is 62.68 %\n",
            "Accuracy after augmentation shear: 0.6 angle: 50.0 is 62.17 %\n",
            "Accuracy after augmentation shear: 0.6 angle: 60.0 is 63.24999999999999 %\n",
            "Accuracy after augmentation shear: 0.8 angle: 0.0 is 63.4 %\n",
            "Accuracy after augmentation shear: 0.8 angle: 10.0 is 62.19 %\n",
            "Accuracy after augmentation shear: 0.8 angle: 20.0 is 61.67 %\n",
            "Accuracy after augmentation shear: 0.8 angle: 30.0 is 61.83 %\n",
            "Accuracy after augmentation shear: 0.8 angle: 40.0 is 61.11 %\n",
            "Accuracy after augmentation shear: 0.8 angle: 50.0 is 61.8 %\n",
            "Accuracy after augmentation shear: 0.8 angle: 60.0 is 63.06 %\n",
            "Accuracy after augmentation shear: 1.0 angle: 0.0 is 63.36000000000001 %\n",
            "Accuracy after augmentation shear: 1.0 angle: 10.0 is 59.84 %\n",
            "Accuracy after augmentation shear: 1.0 angle: 20.0 is 64.03 %\n",
            "Accuracy after augmentation shear: 1.0 angle: 30.0 is 61.92999999999999 %\n",
            "Accuracy after augmentation shear: 1.0 angle: 40.0 is 62.760000000000005 %\n",
            "Accuracy after augmentation shear: 1.0 angle: 50.0 is 62.419999999999995 %\n",
            "Accuracy after augmentation shear: 1.0 angle: 60.0 is 61.919999999999995 %\n",
            "Accuracy after augmentation shear: 1.2 angle: 0.0 is 63.480000000000004 %\n",
            "Accuracy after augmentation shear: 1.2 angle: 10.0 is 59.660000000000004 %\n",
            "Accuracy after augmentation shear: 1.2 angle: 20.0 is 63.07000000000001 %\n",
            "Accuracy after augmentation shear: 1.2 angle: 30.0 is 64.28 %\n",
            "Accuracy after augmentation shear: 1.2 angle: 40.0 is 62.3 %\n",
            "Accuracy after augmentation shear: 1.2 angle: 50.0 is 63.36000000000001 %\n",
            "Accuracy after augmentation shear: 1.2 angle: 60.0 is 61.529999999999994 %\n",
            "Accuracy after augmentation shear: 1.4 angle: 0.0 is 63.57000000000001 %\n",
            "Accuracy after augmentation shear: 1.4 angle: 10.0 is 63.0 %\n",
            "Accuracy after augmentation shear: 1.4 angle: 20.0 is 62.55 %\n",
            "Accuracy after augmentation shear: 1.4 angle: 30.0 is 60.68 %\n",
            "Accuracy after augmentation shear: 1.4 angle: 40.0 is 62.81 %\n",
            "Accuracy after augmentation shear: 1.4 angle: 50.0 is 61.23 %\n",
            "Accuracy after augmentation shear: 1.4 angle: 60.0 is 63.22 %\n",
            "Accuracy after augmentation shear: 1.6 angle: 0.0 is 63.32 %\n",
            "Accuracy after augmentation shear: 1.6 angle: 10.0 is 60.709999999999994 %\n",
            "Accuracy after augmentation shear: 1.6 angle: 20.0 is 62.61 %\n",
            "Accuracy after augmentation shear: 1.6 angle: 30.0 is 59.699999999999996 %\n",
            "Accuracy after augmentation shear: 1.6 angle: 40.0 is 64.21 %\n",
            "Accuracy after augmentation shear: 1.6 angle: 50.0 is 60.27 %\n",
            "Accuracy after augmentation shear: 1.6 angle: 60.0 is 62.92 %\n"
          ]
        }
      ],
      "source": [
        "shearconstraints = [\n",
        "    0,\n",
        "    0.2,\n",
        "    0.4,\n",
        "    0.6,\n",
        "    0.8,\n",
        "    1.0,\n",
        "    1.2,\n",
        "    1.4,\n",
        "    1.6,\n",
        "]  # the values we want to test\n",
        "angleconstraints = [0, 10, 20, 30, 40, 50, 60]  # the values we want to test\n",
        "# cartesian product of both\n",
        "hyp = cartesian((shearconstraints, angleconstraints))\n",
        "\n",
        "accuracies = np.zeros(len(hyp), dtype=float)  # we will save the values here\n",
        "\n",
        "for ii in range(len(hyp)):\n",
        "    # create the augmented dataset\n",
        "    augdata = train_X  # we include the original images also in the augmented dataset\n",
        "    auglabel = train_y\n",
        "    for jj in range(naugmentations):\n",
        "        augdata = np.concatenate(\n",
        "            (augdata, augRotateShear(train_X, hyp[ii][0], hyp[ii][1]))\n",
        "        )  # concatenate the augmented data to the set\n",
        "        auglabel = np.concatenate(\n",
        "            (auglabel, train_y)\n",
        "        )  # the labels don't change when we augment\n",
        "\n",
        "    # check the test accuracy\n",
        "    testpred = NN(augdata, auglabel, test_X)\n",
        "    accuracies[ii] = Accuracy(test_y, testpred)\n",
        "    print(\n",
        "        \"Accuracy after augmentation shear:\",\n",
        "        hyp[ii][0],\n",
        "        \"angle:\",\n",
        "        hyp[ii][1],\n",
        "        \"is\",\n",
        "        accuracies[ii]*100,\n",
        "        \"%\",\n",
        "        flush=True,\n",
        "    )"
      ]
    },
    {
      "cell_type": "markdown",
      "metadata": {
        "id": "PT6CnvSDEX7a"
      },
      "source": [
        "Let us plot it two dimensionally to see which is the best value for the hyperparameters:"
      ]
    },
    {
      "cell_type": "code",
      "execution_count": 18,
      "metadata": {
        "colab": {
          "base_uri": "https://localhost:8080/",
          "height": 481
        },
        "id": "jD2i7msI_cLd",
        "outputId": "ec50ed9c-764a-4db3-fb0e-d04beb0e05d8"
      },
      "outputs": [
        {
          "output_type": "execute_result",
          "data": {
            "text/plain": [
              "<matplotlib.colorbar.Colorbar at 0x7e03890d3e90>"
            ]
          },
          "metadata": {},
          "execution_count": 18
        },
        {
          "output_type": "display_data",
          "data": {
            "text/plain": [
              "<Figure size 640x480 with 2 Axes>"
            ],
            "image/png": "[encoded data removed]"
          },
          "metadata": {}
        }
      ],
      "source": [
        "fig = plt.figure()\n",
        "ax = fig.add_axes([0.1, 0.1, 0.8, 0.8])\n",
        "im = ax.imshow(\n",
        "    accuracies.reshape((len(shearconstraints), len(angleconstraints))), cmap=\"hot\"\n",
        ")\n",
        "ax.set_xlabel(\"Angle\")\n",
        "ax.set_ylabel(\"Shear\")\n",
        "ax.set_xticks(np.arange(len(angleconstraints)))\n",
        "ax.set_xticklabels(angleconstraints)\n",
        "ax.set_yticks(np.arange(len(shearconstraints)))\n",
        "ax.set_yticklabels(shearconstraints)\n",
        "plt.colorbar(im)"
      ]
    },
    {
      "cell_type": "markdown",
      "metadata": {
        "id": "OHcZWJiFJDMh"
      },
      "source": [
        "It seems that rotation and shear don't mix! The best accuracy is when rotation is zero."
      ]
    },
    {
      "cell_type": "markdown",
      "metadata": {
        "id": "PAasQo1C3x4A"
      },
      "source": [
        "## Questions\n",
        "Try these questions for better understanding. You may not be able to solve all of them.\n",
        "1. What is the best value for angle constraint and shear constraint you got? How much did the accuracy improve as compared to not using augmentations?\n",
        "2. Can you increase the accuracy by increasing the number of augmentations from each sample?\n",
        "3. Try implementing a few augmentations of your own and experimenting with them. A good reference is <a href=https://www.analyticsvidhya.com/blog/2019/12/image-augmentation-deep-learning-pytorch/>here. </a>\n",
        "4. Try combining various augmentations. What is the highest accuracy you can get? What is the smallest training dataset you can take and still get accuracy above 50%?\n",
        "\n",
        "Whenever you do any experiment, a good practice is to vary the hyperparameters gradually and create a graph of your results, like we did for gridsearch."
      ]
    },
    {
      "cell_type": "markdown",
      "source": [
        "> Exercise: Try to take 50 images of each digit and calculate the performance on test set."
      ],
      "metadata": {
        "id": "zu590B33-Xp_"
      }
    },
    {
      "cell_type": "markdown",
      "source": [
        "Answer 1:"
      ],
      "metadata": {
        "id": "tkcXPdJUTqEY"
      }
    },
    {
      "cell_type": "code",
      "source": [
        "# Find the best angle constraint from the rotation-only experiment\n",
        "# Assuming the accuracies from the rotation experiment are stored in a variable called `rotation_accuracies`\n",
        "# and the accuracies from the shear experiment are stored in a variable called `shear_accuracies`\n",
        "# and the accuracies from the combined experiment are stored in a variable called `combined_accuracies`\n",
        "\n",
        "# If you have not stored these accuracies in separate variables, you will need to rerun the individual experiments\n",
        "# and store the results before running this cell.\n",
        "\n",
        "# For example, after running the rotation grid search (cell aiaFRLREmGp6), add:\n",
        "# rotation_accuracies = accuracies.copy()\n",
        "\n",
        "# After running the shear grid search (cell l_wrqPkrzBb_), add:\n",
        "# shear_accuracies = accuracies.copy()\n",
        "\n",
        "# After running the combined grid search (cell TJC45WRg0pOP), add:\n",
        "# combined_accuracies = accuracies.copy()\n",
        "\n",
        "\n",
        "# Find the best angle constraint from the rotation-only experiment\n",
        "best_angle_index = np.argmax(accuracies[:len(angleconstraints)]) # Use the first part of accuracies which corresponds to angle constraints\n",
        "best_angle = angleconstraints[best_angle_index]\n",
        "best_angle_accuracy = accuracies[best_angle_index]\n",
        "\n",
        "# Find the best shear constraint from the shear-only experiment\n",
        "# Assuming shear_accuracies holds the accuracies from the shear-only experiment\n",
        "# best_shear_index = np.argmax(shear_accuracies)\n",
        "# best_shear = shearconstraints[best_shear_index]\n",
        "# best_shear_accuracy = shear_accuracies[best_shear_index]\n",
        "\n",
        "# Since we don't have separate variables for accuracies, let's find the best shear from the combined results where angle is 0\n",
        "shear_only_accuracies_in_combined = accuracies.reshape((len(shearconstraints), len(angleconstraints)))[:, 0]\n",
        "best_shear_index = np.argmax(shear_only_accuracies_in_combined)\n",
        "best_shear = shearconstraints[best_shear_index]\n",
        "best_shear_accuracy = shear_only_accuracies_in_combined[best_shear_index]\n",
        "\n",
        "\n",
        "\n",
        "# Find the best combined angle and shear constraints\n",
        "best_combined_index = np.argmax(accuracies)\n",
        "best_combined_hyp = hyp[best_combined_index]\n",
        "best_combined_accuracy = accuracies[best_combined_index]\n",
        "\n",
        "# Baseline accuracy without augmentation (from previous output)\n",
        "baseline_accuracy = 0.6472 # Based on the output of cell 4tQvnoasRNEV\n",
        "\n",
        "print(f\"Best angle constraint (rotation only): {best_angle} degrees with accuracy {best_angle_accuracy*100:.2f}%\")\n",
        "print(f\"Best shear constraint (shear only): {best_shear} with accuracy {best_shear_accuracy*100:.2f}%\")\n",
        "print(f\"Best combined shear and angle constraints: shear={best_combined_hyp[0]}, angle={best_combined_hyp[1]} with accuracy {best_combined_accuracy*100:.2f}%\")\n",
        "\n",
        "print(f\"\\nAccuracy improvement with best rotation: {(best_angle_accuracy - baseline_accuracy)*100:.2f}%\")\n",
        "print(f\"Accuracy improvement with best shear: {(best_shear_accuracy - baseline_accuracy)*100:.2f}%\")\n",
        "print(f\"Accuracy improvement with best combined augmentation: {(best_combined_accuracy - baseline_accuracy)*100:.2f}%\")"
      ],
      "metadata": {
        "colab": {
          "base_uri": "https://localhost:8080/"
        },
        "id": "agl_LSZVQEvb",
        "outputId": "a42a5afe-7b95-4d87-d081-89db5c28862a"
      },
      "execution_count": 21,
      "outputs": [
        {
          "output_type": "stream",
          "name": "stdout",
          "text": [
            "Best angle constraint (rotation only): 40 degrees with accuracy 64.15%\n",
            "Best shear constraint (shear only): 1.4 with accuracy 63.57%\n",
            "Best combined shear and angle constraints: shear=1.2, angle=30.0 with accuracy 64.28%\n",
            "\n",
            "Accuracy improvement with best rotation: -0.57%\n",
            "Accuracy improvement with best shear: -1.15%\n",
            "Accuracy improvement with best combined augmentation: -0.44%\n"
          ]
        }
      ]
    },
    {
      "cell_type": "markdown",
      "source": [
        "Answer 2"
      ],
      "metadata": {
        "id": "DQvgvdsyXWYG"
      }
    },
    {
      "cell_type": "code",
      "source": [
        "# Experiment with increasing the number of augmentations\n",
        "\n",
        "# Use the best angle constraint found in the previous experiment\n",
        "# If you ran the previous cell, best_angle should be available. Otherwise, set it manually.\n",
        "# For example: best_angle = 40\n",
        "\n",
        "# Number of augmentations to test\n",
        "num_augmentations_list = [0, 1, 2, 3, 4, 5, 10, 15, 20]\n",
        "accuracies_aug = np.zeros(len(num_augmentations_list), dtype=float)\n",
        "\n",
        "print(f\"Experimenting with angle constraint: {best_angle} degrees\")\n",
        "\n",
        "for i, num_augmentations in enumerate(num_augmentations_list):\n",
        "    print(f\"Number of augmentations: {num_augmentations}\")\n",
        "    augdata = train_X  # we include the original images also in the augmented dataset\n",
        "    auglabel = train_y\n",
        "    for jj in range(num_augmentations):\n",
        "        augdata = np.concatenate(\n",
        "            (augdata, augRotate(train_X, best_angle))\n",
        "        )  # concatenate the augmented data to the set\n",
        "        auglabel = np.concatenate(\n",
        "            (auglabel, train_y)\n",
        "        )  # the labels don't change when we augment\n",
        "\n",
        "    # check the test accuracy\n",
        "    testpred = NN(augdata, auglabel, test_X)\n",
        "    accuracies_aug[i] = Accuracy(test_y, testpred)\n",
        "    print(\n",
        "        \"Accuracy after\",\n",
        "        num_augmentations,\n",
        "        \"augmentations:\",\n",
        "        accuracies_aug[i]*100,\n",
        "        \"%\",\n",
        "        flush=True,\n",
        "    )\n",
        "\n",
        "# Plot the results\n",
        "fig = plt.figure()\n",
        "ax = fig.add_axes([0.1, 0.1, 0.8, 0.8])\n",
        "ax.plot(num_augmentations_list, accuracies_aug)\n",
        "ax.set_xlabel(\"Number of Augmentations\")\n",
        "ax.set_ylabel(\"Accuracy\")\n",
        "ax.set_title(\"Accuracy vs. Number of Augmentations (Rotation)\")\n",
        "\n",
        "plt.show()"
      ],
      "metadata": {
        "colab": {
          "base_uri": "https://localhost:8080/",
          "height": 816
        },
        "id": "rBkbNz7CYRNL",
        "outputId": "76d94434-3e21-47d5-c992-c0859af589d4"
      },
      "execution_count": 22,
      "outputs": [
        {
          "output_type": "stream",
          "name": "stdout",
          "text": [
            "Experimenting with angle constraint: 40 degrees\n",
            "Number of augmentations: 0\n",
            "Accuracy after 0 augmentations: 64.72 %\n",
            "Number of augmentations: 1\n",
            "Accuracy after 1 augmentations: 65.82000000000001 %\n",
            "Number of augmentations: 2\n",
            "Accuracy after 2 augmentations: 66.49000000000001 %\n",
            "Number of augmentations: 3\n",
            "Accuracy after 3 augmentations: 67.97999999999999 %\n",
            "Number of augmentations: 4\n",
            "Accuracy after 4 augmentations: 66.86999999999999 %\n",
            "Number of augmentations: 5\n",
            "Accuracy after 5 augmentations: 67.23 %\n",
            "Number of augmentations: 10\n",
            "Accuracy after 10 augmentations: 68.63 %\n",
            "Number of augmentations: 15\n",
            "Accuracy after 15 augmentations: 68.5 %\n",
            "Number of augmentations: 20\n",
            "Accuracy after 20 augmentations: 68.72 %\n"
          ]
        },
        {
          "output_type": "display_data",
          "data": {
            "text/plain": [
              "<Figure size 640x480 with 1 Axes>"
            ],
            "image/png": "[encoded data removed]"
          },
          "metadata": {}
        }
      ]
    },
    {
      "cell_type": "code",
      "source": [
        "# Implement Translation Augmentation\n",
        "\n",
        "def translate_image(image, shift_x, shift_y):\n",
        "    \"\"\"\n",
        "    Translates an image by shift_x horizontally and shift_y vertically.\n",
        "    Uses skimage.transform.AffineTransform and warp.\n",
        "    \"\"\"\n",
        "    tform = AffineTransform(translation=(shift_x, shift_y))\n",
        "    return warp(image, tform, mode='edge') # Use 'edge' mode to fill translated areas\n",
        "\n",
        "def augTranslate(sample, max_shift):\n",
        "    \"\"\"\n",
        "    Applies random translation to a sample within a maximum shift constraint.\n",
        "\n",
        "    sample: numpy array of shape (n, h, w) or (h, w)\n",
        "    max_shift: the maximum number of pixels to shift in any direction (horizontal or vertical)\n",
        "\n",
        "    returns: the augmented sample(s)\n",
        "    \"\"\"\n",
        "    if max_shift == 0:\n",
        "        return sample\n",
        "    if len(sample.shape) == 2:\n",
        "        sample = np.expand_dims(sample, 0) # make sure the sample is 3 dimensional\n",
        "\n",
        "    nsample = sample.copy()\n",
        "    for ii in range(len(sample)):\n",
        "        # Generate random shifts between -max_shift and +max_shift\n",
        "        shift_x = rng.integers(-max_shift, max_shift + 1)\n",
        "        shift_y = rng.integers(-max_shift, max_shift + 1)\n",
        "        nsample[ii] = translate_image(sample[ii], shift_x, shift_y)\n",
        "\n",
        "    return np.squeeze(nsample)\n",
        "\n",
        "\n",
        "# Experiment with Translation Augmentation\n",
        "\n",
        "# Hyperparameters\n",
        "shift_constraints = [0, 1, 2, 3, 4, 5] # the maximum number of pixels to shift\n",
        "naugmentations = 5 # Number of augmented samples per original sample\n",
        "\n",
        "accuracies_translate = np.zeros(len(shift_constraints), dtype=float)\n",
        "\n",
        "print(\"Experimenting with Translation Augmentation\")\n",
        "\n",
        "for i, shift_constraint in enumerate(shift_constraints):\n",
        "    print(f\"Max shift constraint: {shift_constraint}\")\n",
        "    augdata = train_X  # we include the original images also in the augmented dataset\n",
        "    auglabel = train_y\n",
        "    for jj in range(naugmentations):\n",
        "        augdata = np.concatenate(\n",
        "            (augdata, augTranslate(train_X, shift_constraint))\n",
        "        )  # concatenate the augmented data to the set\n",
        "        auglabel = np.concatenate(\n",
        "            (auglabel, train_y)\n",
        "        )  # the labels don't change when we augment\n",
        "\n",
        "    # check the test accuracy\n",
        "    testpred = NN(augdata, auglabel, test_X)\n",
        "    accuracies_translate[i] = Accuracy(test_y, testpred)\n",
        "    print(\n",
        "        \"Accuracy after translation augmentation constrained by\",\n",
        "        shift_constraint,\n",
        "        \"pixels is\",\n",
        "        accuracies_translate[i]*100,\n",
        "        \"%\",\n",
        "        flush=True,\n",
        "    )\n",
        "\n",
        "# Plot the results\n",
        "fig = plt.figure()\n",
        "ax = fig.add_axes([0.1, 0.1, 0.8, 0.8])\n",
        "ax.plot(shift_constraints, accuracies_translate)\n",
        "ax.set_xlabel(\"Max Shift (pixels)\")\n",
        "ax.set_ylabel(\"Accuracy\")\n",
        "ax.set_title(\"Accuracy vs. Translation Constraint\")\n",
        "\n",
        "plt.show()"
      ],
      "metadata": {
        "colab": {
          "base_uri": "https://localhost:8080/",
          "height": 712
        },
        "id": "Q_3yN1fZZikx",
        "outputId": "c19f2581-e7d2-446c-ee28-eb336ee338ce"
      },
      "execution_count": 23,
      "outputs": [
        {
          "output_type": "stream",
          "name": "stdout",
          "text": [
            "Experimenting with Translation Augmentation\n",
            "Max shift constraint: 0\n",
            "Accuracy after translation augmentation constrained by 0 pixels is 64.72 %\n",
            "Max shift constraint: 1\n",
            "Accuracy after translation augmentation constrained by 1 pixels is 65.36 %\n",
            "Max shift constraint: 2\n",
            "Accuracy after translation augmentation constrained by 2 pixels is 65.68 %\n",
            "Max shift constraint: 3\n",
            "Accuracy after translation augmentation constrained by 3 pixels is 64.48 %\n",
            "Max shift constraint: 4\n",
            "Accuracy after translation augmentation constrained by 4 pixels is 62.849999999999994 %\n",
            "Max shift constraint: 5\n",
            "Accuracy after translation augmentation constrained by 5 pixels is 61.59 %\n"
          ]
        },
        {
          "output_type": "display_data",
          "data": {
            "text/plain": [
              "<Figure size 640x480 with 1 Axes>"
            ],
            "image/png": "[encoded data removed]"
          },
          "metadata": {}
        }
      ]
    },
    {
      "cell_type": "code",
      "source": [
        "def augRotateShearTranslate(sample, angleconstraint, shearconstraint, max_shift):\n",
        "    \"\"\"\n",
        "    This function combines rotation, shear, and translation augmentations.\n",
        "\n",
        "    sample: numpy array of shape (n, h, w) or (h, w)\n",
        "    angleconstraint: the maximum angle by which the sample can be rotated\n",
        "    shearconstraint: the maximum shear by which the sample can be sheared\n",
        "    max_shift: the maximum number of pixels to shift in any direction\n",
        "\n",
        "    returns: the augmented sample(s)\n",
        "    \"\"\"\n",
        "    if len(sample.shape) == 2:\n",
        "        sample = np.expand_dims(sample, 0) # make sure the sample is 3 dimensional\n",
        "\n",
        "    nsample = sample.copy()\n",
        "    for ii in range(len(sample)):\n",
        "        # Apply shear\n",
        "        img_sheared = augShear(sample[ii], shearconstraint)\n",
        "        # Apply rotation\n",
        "        img_rotated = augRotate(img_sheared, angleconstraint)\n",
        "        # Apply translation\n",
        "        nsample[ii] = augTranslate(img_rotated, max_shift)\n",
        "\n",
        "    return np.squeeze(nsample)"
      ],
      "metadata": {
        "id": "n8gGWXLwbjkQ"
      },
      "execution_count": 27,
      "outputs": []
    },
    {
      "cell_type": "code",
      "metadata": {
        "colab": {
          "base_uri": "https://localhost:8080/"
        },
        "id": "927cefbb",
        "outputId": "a0aaf275-6156-4531-ab65-21481fef0546"
      },
      "source": [
        "# Grid search for combined rotation, shear, and translation augmentations\n",
        "\n",
        "# Hyperparameters to test (adjust these based on previous experiments and computational resources)\n",
        "shearconstraints = [0, 0.2, 0.4, 0.6]\n",
        "angleconstraints = [0, 10, 20, 30]\n",
        "shift_constraints = [0, 1, 2]\n",
        "\n",
        "# Create a grid of all possible hyperparameter combinations\n",
        "hyp_combined = cartesian((shearconstraints, angleconstraints, shift_constraints))\n",
        "\n",
        "accuracies_combined = np.zeros(len(hyp_combined), dtype=float)\n",
        "\n",
        "naugmentations_combined = 5 # Number of augmented samples per original sample\n",
        "\n",
        "print(\"Starting grid search for combined augmentations...\")\n",
        "\n",
        "for i, (shear_c, angle_c, shift_c) in enumerate(hyp_combined):\n",
        "    print(f\"Testing: Shear={shear_c}, Angle={angle_c}, Shift={shift_c}\")\n",
        "\n",
        "    augdata = train_X\n",
        "    auglabel = train_y\n",
        "    for jj in range(naugmentations_combined):\n",
        "        augdata = np.concatenate(\n",
        "            (augdata, augRotateShearTranslate(train_X, angle_c, shear_c, shift_c))\n",
        "        )\n",
        "        auglabel = np.concatenate((auglabel, train_y))\n",
        "\n",
        "    testpred = NN(augdata, auglabel, test_X)\n",
        "    accuracies_combined[i] = Accuracy(test_y, testpred)\n",
        "    print(\n",
        "        f\"Accuracy: {accuracies_combined[i]*100:.2f}%\",\n",
        "        flush=True,\n",
        "    )\n",
        "\n",
        "# Find the best hyperparameters and accuracy\n",
        "best_combined_index = np.argmax(accuracies_combined)\n",
        "best_combined_hyp_values = hyp_combined[best_combined_index]\n",
        "best_combined_accuracy = accuracies_combined[best_combined_index]\n",
        "\n",
        "print(\"\\nGrid search complete.\")\n",
        "print(f\"Best combined hyperparameters: Shear={best_combined_hyp_values[0]}, Angle={best_combined_hyp_values[1]}, Shift={best_combined_hyp_values[2]}\")\n",
        "print(f\"Highest accuracy with combined augmentations: {best_combined_accuracy*100:.2f}%\")\n"
      ],
      "execution_count": 29,
      "outputs": [
        {
          "output_type": "stream",
          "name": "stdout",
          "text": [
            "Starting grid search for combined augmentations...\n",
            "Testing: Shear=0.0, Angle=0.0, Shift=0.0\n",
            "Accuracy: 64.72%\n",
            "Testing: Shear=0.0, Angle=0.0, Shift=1.0\n",
            "Accuracy: 65.70%\n",
            "Testing: Shear=0.0, Angle=0.0, Shift=2.0\n",
            "Accuracy: 62.58%\n",
            "Testing: Shear=0.0, Angle=10.0, Shift=0.0\n",
            "Accuracy: 66.25%\n",
            "Testing: Shear=0.0, Angle=10.0, Shift=1.0\n",
            "Accuracy: 67.98%\n",
            "Testing: Shear=0.0, Angle=10.0, Shift=2.0\n",
            "Accuracy: 64.04%\n",
            "Testing: Shear=0.0, Angle=20.0, Shift=0.0\n",
            "Accuracy: 66.83%\n",
            "Testing: Shear=0.0, Angle=20.0, Shift=1.0\n",
            "Accuracy: 67.25%\n",
            "Testing: Shear=0.0, Angle=20.0, Shift=2.0\n",
            "Accuracy: 66.69%\n",
            "Testing: Shear=0.0, Angle=30.0, Shift=0.0\n",
            "Accuracy: 68.52%\n",
            "Testing: Shear=0.0, Angle=30.0, Shift=1.0\n",
            "Accuracy: 69.23%\n",
            "Testing: Shear=0.0, Angle=30.0, Shift=2.0\n",
            "Accuracy: 65.77%\n",
            "Testing: Shear=0.2, Angle=0.0, Shift=0.0\n",
            "Accuracy: 63.31%\n",
            "Testing: Shear=0.2, Angle=0.0, Shift=1.0\n",
            "Accuracy: 62.62%\n",
            "Testing: Shear=0.2, Angle=0.0, Shift=2.0\n",
            "Accuracy: 59.38%\n",
            "Testing: Shear=0.2, Angle=10.0, Shift=0.0\n",
            "Accuracy: 63.12%\n",
            "Testing: Shear=0.2, Angle=10.0, Shift=1.0\n",
            "Accuracy: 62.73%\n",
            "Testing: Shear=0.2, Angle=10.0, Shift=2.0\n",
            "Accuracy: 61.02%\n",
            "Testing: Shear=0.2, Angle=20.0, Shift=0.0\n",
            "Accuracy: 63.05%\n",
            "Testing: Shear=0.2, Angle=20.0, Shift=1.0\n",
            "Accuracy: 62.12%\n",
            "Testing: Shear=0.2, Angle=20.0, Shift=2.0\n",
            "Accuracy: 61.10%\n",
            "Testing: Shear=0.2, Angle=30.0, Shift=0.0\n",
            "Accuracy: 61.96%\n",
            "Testing: Shear=0.2, Angle=30.0, Shift=1.0\n",
            "Accuracy: 62.68%\n",
            "Testing: Shear=0.2, Angle=30.0, Shift=2.0\n",
            "Accuracy: 60.97%\n",
            "Testing: Shear=0.4, Angle=0.0, Shift=0.0\n",
            "Accuracy: 64.16%\n",
            "Testing: Shear=0.4, Angle=0.0, Shift=1.0\n",
            "Accuracy: 63.84%\n",
            "Testing: Shear=0.4, Angle=0.0, Shift=2.0\n",
            "Accuracy: 63.43%\n",
            "Testing: Shear=0.4, Angle=10.0, Shift=0.0\n",
            "Accuracy: 64.26%\n",
            "Testing: Shear=0.4, Angle=10.0, Shift=1.0\n",
            "Accuracy: 63.78%\n",
            "Testing: Shear=0.4, Angle=10.0, Shift=2.0\n",
            "Accuracy: 60.45%\n",
            "Testing: Shear=0.4, Angle=20.0, Shift=0.0\n",
            "Accuracy: 63.73%\n",
            "Testing: Shear=0.4, Angle=20.0, Shift=1.0\n",
            "Accuracy: 64.32%\n",
            "Testing: Shear=0.4, Angle=20.0, Shift=2.0\n",
            "Accuracy: 62.89%\n",
            "Testing: Shear=0.4, Angle=30.0, Shift=0.0\n",
            "Accuracy: 64.07%\n",
            "Testing: Shear=0.4, Angle=30.0, Shift=1.0\n",
            "Accuracy: 62.33%\n",
            "Testing: Shear=0.4, Angle=30.0, Shift=2.0\n",
            "Accuracy: 61.73%\n",
            "Testing: Shear=0.6, Angle=0.0, Shift=0.0\n",
            "Accuracy: 65.15%\n",
            "Testing: Shear=0.6, Angle=0.0, Shift=1.0\n",
            "Accuracy: 66.90%\n",
            "Testing: Shear=0.6, Angle=0.0, Shift=2.0\n",
            "Accuracy: 63.63%\n",
            "Testing: Shear=0.6, Angle=10.0, Shift=0.0\n",
            "Accuracy: 66.27%\n",
            "Testing: Shear=0.6, Angle=10.0, Shift=1.0\n",
            "Accuracy: 65.50%\n",
            "Testing: Shear=0.6, Angle=10.0, Shift=2.0\n",
            "Accuracy: 63.06%\n",
            "Testing: Shear=0.6, Angle=20.0, Shift=0.0\n",
            "Accuracy: 63.54%\n",
            "Testing: Shear=0.6, Angle=20.0, Shift=1.0\n",
            "Accuracy: 67.54%\n",
            "Testing: Shear=0.6, Angle=20.0, Shift=2.0\n",
            "Accuracy: 62.50%\n",
            "Testing: Shear=0.6, Angle=30.0, Shift=0.0\n",
            "Accuracy: 65.37%\n",
            "Testing: Shear=0.6, Angle=30.0, Shift=1.0\n",
            "Accuracy: 62.34%\n",
            "Testing: Shear=0.6, Angle=30.0, Shift=2.0\n",
            "Accuracy: 62.06%\n",
            "\n",
            "Grid search complete.\n",
            "Best combined hyperparameters: Shear=0.0, Angle=30.0, Shift=1.0\n",
            "Highest accuracy with combined augmentations: 69.23%\n"
          ]
        }
      ]
    },
    {
      "cell_type": "code",
      "source": [
        "# Exercise: Try to take 50 images of each digit and calculate the performance on test set.\n",
        "\n",
        "# Create a smaller training dataset with 50 images per digit\n",
        "train_X_small = []\n",
        "train_y_small = []\n",
        "\n",
        "num_samples_per_digit = 50\n",
        "\n",
        "for digit in range(10):\n",
        "    # Get indices of images for the current digit\n",
        "    digit_indices = np.where(train_y == digit)[0]\n",
        "    # Randomly select num_samples_per_digit indices (if available)\n",
        "    selected_indices = rng.choice(digit_indices, min(len(digit_indices), num_samples_per_digit), replace=False)\n",
        "    # Append the selected images and labels to the new small dataset\n",
        "    train_X_small.append(train_X[selected_indices])\n",
        "    train_y_small.append(train_y[selected_indices])\n",
        "\n",
        "# Concatenate the lists to create numpy arrays\n",
        "train_X_small = np.concatenate(train_X_small, axis=0)\n",
        "train_y_small = np.concatenate(train_y_small, axis=0)\n",
        "\n",
        "print(f\"Shape of the small training dataset (X): {train_X_small.shape}\")\n",
        "print(f\"Shape of the small training dataset (y): {train_y_small.shape}\")\n",
        "\n",
        "# Evaluate the model on the test set using the small training dataset\n",
        "print(\"Evaluating performance with the small training dataset...\")\n",
        "testpred_small = NN(train_X_small, train_y_small, test_X)\n",
        "accuracy_small_dataset = Accuracy(test_y, testpred_small)\n",
        "\n",
        "print(f\"Accuracy with {num_samples_per_digit} images per digit: {accuracy_small_dataset*100:.2f}%\")"
      ],
      "metadata": {
        "colab": {
          "base_uri": "https://localhost:8080/"
        },
        "id": "GVUhABjuckJO",
        "outputId": "e0705b36-40ff-4290-af98-73e00f40e799"
      },
      "execution_count": 30,
      "outputs": [
        {
          "output_type": "stream",
          "name": "stdout",
          "text": [
            "Shape of the small training dataset (X): (50, 28, 28)\n",
            "Shape of the small training dataset (y): (50,)\n",
            "Evaluating performance with the small training dataset...\n",
            "Accuracy with 50 images per digit: 64.72%\n"
          ]
        }
      ]
    }
  ],
  "metadata": {
    "colab": {
      "provenance": [],
      "include_colab_link": true
    },
    "kernelspec": {
      "display_name": "Python 3",
      "name": "python3"
    },
    "language_info": {
      "codemirror_mode": {
        "name": "ipython",
        "version": 3
      },
      "file_extension": ".py",
      "mimetype": "text/x-python",
      "name": "python",
      "nbconvert_exporter": "python",
      "pygments_lexer": "ipython3",
      "version": "3.10.10"
    }
  },
  "nbformat": 4,
  "nbformat_minor": 0
}